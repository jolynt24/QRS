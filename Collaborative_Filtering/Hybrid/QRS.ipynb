{
  "nbformat": 4,
  "nbformat_minor": 0,
  "metadata": {
    "colab": {
      "name": "QRS_3_v2.ipynb",
      "provenance": [],
      "collapsed_sections": [
        "yPq1qfEGOwnN",
        "ETGMc-0ePCdp"
      ]
    },
    "kernelspec": {
      "display_name": "Python 3",
      "name": "python3"
    },
    "language_info": {
      "name": "python"
    }
  },
  "cells": [
    {
      "cell_type": "markdown",
      "metadata": {
        "id": "ZFkghm2xMEtI"
      },
      "source": [
        "#A. Hybrid NCF with quantum-classical layer"
      ]
    },
    {
      "cell_type": "markdown",
      "metadata": {
        "id": "mysxuwZiLS_M"
      },
      "source": [
        "##1. Setup\n",
        "\n",
        "Please run the following code to obtain the dataset from Kaggle and load it in the `sample_data` folder. Install IBM Qiskit to create a quantum circuit"
      ]
    },
    {
      "cell_type": "code",
      "metadata": {
        "colab": {
          "base_uri": "https://localhost:8080/"
        },
        "id": "U2kduOx8KZKI",
        "outputId": "68d0c2b2-8599-43cb-bd84-8305d4048487"
      },
      "source": [
        "\"\"\"\n",
        "\n",
        "Mount the Google drive by copying the API key obtained after signing in\n",
        "Create a hidden folder, kaggle\n",
        "Copy the API key from the drive into the folder\n",
        "Change folder permissions\n",
        "Download the movielens dataset from kaggle and unzip in the sample_data folder\n",
        "\n",
        "\"\"\"\n",
        "\n",
        "!pip install -q kaggle\n",
        "from google.colab import drive\n",
        "drive.mount('/gdrive')\n",
        "!mkdir ~/.kaggle\n",
        "!cp /gdrive/MyDrive/Colab\\ Notebooks/kaggle.json ~/.kaggle/\n",
        "!chmod 600 ~/.kaggle/kaggle.json\n",
        "!kaggle datasets download grouplens/movielens-latest-small -p /content/sample_data/ --unzip \n",
        "!pip install -q qiskit"
      ],
      "execution_count": null,
      "outputs": [
        {
          "output_type": "stream",
          "text": [
            "Mounted at /gdrive\n",
            "Downloading movielens-latest-small.zip to /content/sample_data\n",
            "  0% 0.00/971k [00:00<?, ?B/s]\n",
            "100% 971k/971k [00:00<00:00, 62.5MB/s]\n",
            "\u001b[K     |████████████████████████████████| 6.1 MB 25.8 MB/s \n",
            "\u001b[K     |████████████████████████████████| 18.0 MB 285 kB/s \n",
            "\u001b[K     |████████████████████████████████| 235 kB 65.2 MB/s \n",
            "\u001b[K     |████████████████████████████████| 207 kB 70.0 MB/s \n",
            "\u001b[K     |████████████████████████████████| 2.1 MB 63.2 MB/s \n",
            "\u001b[K     |████████████████████████████████| 200 kB 35.7 MB/s \n",
            "\u001b[K     |████████████████████████████████| 635 kB 41.9 MB/s \n",
            "\u001b[K     |████████████████████████████████| 1.4 MB 57.2 MB/s \n",
            "\u001b[K     |████████████████████████████████| 52 kB 1.4 MB/s \n",
            "\u001b[K     |████████████████████████████████| 49 kB 6.0 MB/s \n",
            "\u001b[K     |████████████████████████████████| 33.9 MB 45 kB/s \n",
            "\u001b[K     |████████████████████████████████| 943 kB 36.1 MB/s \n",
            "\u001b[K     |████████████████████████████████| 3.2 MB 56.9 MB/s \n",
            "\u001b[K     |████████████████████████████████| 6.3 MB 52.2 MB/s \n",
            "\u001b[?25h  Building wheel for qiskit (setup.py) ... \u001b[?25l\u001b[?25hdone\n",
            "  Building wheel for dlx (setup.py) ... \u001b[?25l\u001b[?25hdone\n",
            "  Building wheel for docplex (setup.py) ... \u001b[?25l\u001b[?25hdone\n",
            "  Building wheel for python-constraint (setup.py) ... \u001b[?25l\u001b[?25hdone\n",
            "  Building wheel for yfinance (setup.py) ... \u001b[?25l\u001b[?25hdone\n"
          ],
          "name": "stdout"
        }
      ]
    },
    {
      "cell_type": "markdown",
      "metadata": {
        "id": "BVspFNuuL0QF"
      },
      "source": [
        "##2. Import libraries"
      ]
    },
    {
      "cell_type": "code",
      "metadata": {
        "id": "flz9ho11YWFK"
      },
      "source": [
        "import numpy as np\n",
        "import pandas as pd\n",
        "\n",
        "\n",
        "import qiskit\n",
        "\n",
        "import torch as T\n",
        "from torch.utils.data import Dataset, random_split, DataLoader\n",
        "import torch.nn as nn\n",
        "from torch.autograd import Variable\n",
        "\n",
        "from sklearn.preprocessing import MinMaxScaler\n",
        "from sklearn.metrics import accuracy_score\n",
        "\n",
        "import matplotlib.pyplot as plt\n"
      ],
      "execution_count": null,
      "outputs": []
    },
    {
      "cell_type": "markdown",
      "metadata": {
        "id": "yPq1qfEGOwnN"
      },
      "source": [
        "##3. Data Generation\n",
        "\n",
        "Creates data and target values"
      ]
    },
    {
      "cell_type": "code",
      "metadata": {
        "id": "Hs7ttwnDyiPh"
      },
      "source": [
        "class Movielens_Ratings(Dataset):\n",
        "  def __init__(self,nrows):\n",
        "    \"\"\"\n",
        "\n",
        "    Generates the Movielens data\n",
        "\n",
        "    Args:\n",
        "\n",
        "      nrows: Total number of rows from the datatset\n",
        "      ratings: DataFrame stores ratings data [userId, movieId, rating, timestamp] and two features [user, movie] are added with sequential values\n",
        "      movies: DataFrame stores information about the movie [movieId, title, genres]\n",
        "      u2eu: Dictionary containing userId mapped to a sequential number (userId contain discontinuous values)\n",
        "      m2em: Dictionary containing movieId mapped to a sequential number (movieId contain discontinuous values)\n",
        "      em2m: Dictionary containing numbers mapped to movieId\n",
        "      userCount: Total users\n",
        "      movieCount: Total movies\n",
        "      data: Tensor of [user, movie] values\n",
        "      target: Tensor of rating values\n",
        "\n",
        "    \"\"\"\n",
        "    self.ratings = pd.read_csv('/content/sample_data/ratings.csv',parse_dates=['timestamp'],nrows=nrows)\n",
        "    self.movies = pd.read_csv('/content/sample_data/movies.csv')\n",
        "\n",
        "    #extract all users and movies\n",
        "    userIds = self.ratings[\"userId\"].unique().tolist()\n",
        "    movieIds = self.ratings[\"movieId\"].unique().tolist()\n",
        "\n",
        "    #integer encoding\n",
        "    self.u2eu = {x: i for i, x in enumerate(userIds)}\n",
        "    self.m2em = {x: i for i, x in enumerate(movieIds)}\n",
        "    self.em2m = {i: x for i, x in enumerate(movieIds)}\n",
        "\n",
        "    self.ratings[\"user\"] = self.ratings[\"userId\"].map(self.u2eu)\n",
        "    self.ratings[\"movie\"] = self.ratings[\"movieId\"].map(self.m2em)\n",
        "\n",
        "    self.userCount = len(self.u2eu)\n",
        "    self.movieCount = len(self.m2em)\n",
        "\n",
        "    #scale the ratings to 0 to 1\n",
        "    self.ratings['rating'] = MinMaxScaler().fit_transform(np.array(self.ratings['rating']).reshape(-1,1))\n",
        "\n",
        "    self.data = T.from_numpy(self.ratings[['user','movie']].values)\n",
        "    self.target = T.from_numpy(self.ratings['rating'].values)\n",
        "\n",
        "  def __len__(self): return len(self.data)\n",
        "\n",
        "  def __getitem__(self,idx): return [self.data[idx], self.target[idx]]"
      ],
      "execution_count": null,
      "outputs": []
    },
    {
      "cell_type": "markdown",
      "metadata": {
        "id": "ETGMc-0ePCdp"
      },
      "source": [
        "##4. Quantum Circuit\n",
        "\n",
        "The classes defined in this section and section 5 are obtained from [Hybrid quantum-classical Neural Networks with PyTorch and Qiskit](https://qiskit.org/textbook/ch-machine-learning/machine-learning-qiskit-pytorch.html) tutorial on the Qiskit website.\n",
        "\n",
        "`QCircuit` cretaes a quantum circuit by using the number of qubits, the *aer simulator* and the number of repetitions per circuit. \n",
        "\n",
        "For each qubit, the circuit contains a Hadamard gate followed by a Barrier and a RY gate (rotation along Y axis), ending with a measurement circuit that provides results in 0s and 1s.\n",
        "\n"
      ]
    },
    {
      "cell_type": "code",
      "metadata": {
        "id": "Mxm-cCuuDjhH"
      },
      "source": [
        "class QCircuit:\n",
        "    \n",
        "    def __init__(self, nqubits, backend, shots):\n",
        "      \"\"\"\n",
        "\n",
        "      Quantum circuit\n",
        "\n",
        "      Args:\n",
        "      \n",
        "      nqubits: Number of qubits in the circuit\n",
        "      backend: Simulator on which the quantum circuit can be run\n",
        "      shots: Number of repetitions per circuit (sampling)\n",
        "      circuit: A quantum circuit\n",
        "\n",
        "      \"\"\"\n",
        "      #Circuit definition\n",
        "      self.circuit = qiskit.QuantumCircuit(nqubits)\n",
        "      \n",
        "      allQubits = [i for i in range(nqubits)]\n",
        "      self.theta = qiskit.circuit.Parameter('theta')\n",
        "      \n",
        "      self.circuit.h(allQubits)\n",
        "      self.circuit.barrier()\n",
        "      self.circuit.ry(self.theta, allQubits)\n",
        "      \n",
        "      self.circuit.measure_all()\n",
        "\n",
        "      print(\"=\"*5,\"Quantum Circuit\",\"=\"*5,\"\\n\",self.circuit)\n",
        "\n",
        "      #parameter definition\n",
        "      self.backend = backend #simulator or real quantum computer\n",
        "      self.shots = shots\n",
        "    \n",
        "    def run(self, thetas):\n",
        "        transpiledQC = qiskit.transpile(self.circuit, self.backend)\n",
        "        Qobj = qiskit.assemble(transpiledQC, shots=self.shots,parameter_binds = [{self.theta: theta} for theta in thetas])\n",
        "        job = self.backend.run(Qobj)\n",
        "        result = job.result().get_counts()\n",
        "        \n",
        "        counts = np.array(list(result.values()))\n",
        "        states = np.array(list(result.keys())).astype(float)\n",
        "        \n",
        "        # Compute probabilities for each state\n",
        "        probabilities = counts / self.shots\n",
        "        # Get state expectation\n",
        "        zbasis = np.sum(states * probabilities)\n",
        "        \n",
        "        return np.array([zbasis])"
      ],
      "execution_count": null,
      "outputs": []
    },
    {
      "cell_type": "markdown",
      "metadata": {
        "id": "_MRXGxeGU8Bb"
      },
      "source": [
        "##5. Quantum-Classical Functions\n",
        "\n",
        "The HybridFunction class defines the forward and backward pass of the Backpropagation Algorithm. \n",
        "\n",
        "---\n",
        "\n",
        "In the forward pass function, the output of the quantum cirucit is calculated using the z-basis state. The input and the output is saved for backward pass using `save_for_backward()`.\n",
        "\n",
        "---\n",
        "\n",
        "In the backward pass function, tensor containing gradient loss for the output is obtained and the backward pass has to calculate the gradient loss for each input. Since the quantum circuit are unitary computation, the [parmeter-shift rule](https://arxiv.org/pdf/1905.13311.pdf) is applied to evaluate the gradients based on their parameters."
      ]
    },
    {
      "cell_type": "code",
      "metadata": {
        "id": "CACPTuC-DlFI"
      },
      "source": [
        "class HybridFunction(T.autograd.Function):\n",
        "    \"\"\" \n",
        "    \n",
        "    Hybrid quantum - classical function definition \n",
        "    \n",
        "    Args:\n",
        "\n",
        "    ctx: a buffer between the forward and backward pass\n",
        "    input: tensor input\n",
        "    shift: shift angle in terms of radians π/2\n",
        "    expectation_z: output of quantum circuit according to classical computation in terms of z-basis\n",
        "    \n",
        "    \"\"\"\n",
        "    \n",
        "    @staticmethod\n",
        "    def forward(ctx, input, quantum_circuit, shift):\n",
        "        \"\"\" \n",
        "        \n",
        "        Forward pass         \n",
        "\n",
        "        \"\"\"\n",
        "        ctx.shift = shift\n",
        "        ctx.quantum_circuit = quantum_circuit\n",
        "\n",
        "        expectation_z = []\n",
        "        for i in range(len(input)):\n",
        "          expectation_z.append(ctx.quantum_circuit.run(input[i].tolist())) #collect all the ouput of the z-basis into a list  \n",
        "          \n",
        "        result = T.tensor(expectation_z)\n",
        "        ctx.save_for_backward(input, result)\n",
        "\n",
        "        return result\n",
        "        \n",
        "    @staticmethod\n",
        "    def backward(ctx, gradientOutput):\n",
        "        \"\"\" \n",
        "        \n",
        "        Backward pass  \n",
        "\n",
        "        Args:\n",
        "\n",
        "        gradient: gradient loss for each input unit\n",
        "        \n",
        "        \"\"\"\n",
        "        input, expectation_z = ctx.saved_tensors\n",
        "        input_list = np.array(input.tolist())\n",
        "        \n",
        "        #Parameter-shift rule\n",
        "        shift_right = input_list + np.ones(input_list.shape) * ctx.shift\n",
        "        shift_left = input_list - np.ones(input_list.shape) * ctx.shift\n",
        "        \n",
        "        gradients = []\n",
        "        for i in range(len(input_list)):\n",
        "          expectation_right = ctx.quantum_circuit.run(shift_right[i])\n",
        "          expectation_left  = ctx.quantum_circuit.run(shift_left[i])\n",
        "            \n",
        "          gradient = T.tensor([expectation_right]) - T.tensor([expectation_left])\n",
        "          gradients.append(gradient)\n",
        "        \n",
        "        gradients = np.array([gradients]).T\n",
        "\n",
        "        return T.tensor([gradients]).float() * gradientOutput.float(), None, None"
      ],
      "execution_count": null,
      "outputs": []
    },
    {
      "cell_type": "markdown",
      "metadata": {
        "id": "EyBOWh6ZXztP"
      },
      "source": [
        "The Hybrid class is used for invoking the quantum-classical function from a classical machine.\n"
      ]
    },
    {
      "cell_type": "code",
      "metadata": {
        "id": "hbarwmr_X2uf"
      },
      "source": [
        "class Hybrid(nn.Module):\n",
        "    \"\"\" \n",
        "    \n",
        "    Hybrid quantum - classical layer definition \n",
        "    \n",
        "    Args:\n",
        "\n",
        "    shift: shift angle for parameter-shift rule\n",
        "\n",
        "    \"\"\"\n",
        "    \n",
        "    def __init__(self, backend, shots, shift):\n",
        "        super(Hybrid, self).__init__()\n",
        "        self.quantum_circuit = QCircuit(1, backend, shots)\n",
        "        self.shift = shift\n",
        "        \n",
        "    def forward(self, input):\n",
        "        return HybridFunction.apply(input, self.quantum_circuit, self.shift)"
      ],
      "execution_count": null,
      "outputs": []
    },
    {
      "cell_type": "markdown",
      "metadata": {
        "id": "TT381Taifoeq"
      },
      "source": [
        "##6. Recommendation Neural Network\n",
        "\n",
        "The `RNet` class defines the collaborative filtering network which contains embeddings, bias, sigmoid function and the layer that contains quantum computer. The dot product of user embedding and movie embedding, which is then added to the bias. The resulting tensor sum is passed to the quantum computer for computation and the returned product is passed to a sigmoid fucntion."
      ]
    },
    {
      "cell_type": "code",
      "metadata": {
        "id": "pHyB5rybZFsp"
      },
      "source": [
        "class RNet(nn.Module):\n",
        "  \"\"\"\n",
        "  A collaborative filtering network for recommendation generation\n",
        "\n",
        "  Args:\n",
        "\n",
        "  userCount: Total number of users\n",
        "  movieCount: Total number of movies\n",
        "  embedding_size: Embedding size for projection\n",
        "  userEmbedding: Embedding space for users according to the embedding_size\n",
        "  userBias: User bias\n",
        "  movieEmbedding: Embedding space for movies according to the embedding_size\n",
        "  movieBias: Movie Bias\n",
        "  sigmoid: Activation function\n",
        "  hybrid: An optimization layer using quantum circuit\n",
        "\n",
        "  \"\"\"\n",
        "  def __init__(self, userCount, movieCount, embedding_size):\n",
        "      super(RNet,self).__init__()\n",
        "  \n",
        "      #embed users and movies and calculate their respective biases\n",
        "      self.userEmbedding = nn.Embedding(userCount, embedding_dim=embedding_size)\n",
        "      self.userBias = nn.Embedding(userCount, 1)\n",
        "\n",
        "      self.movieEmbedding = nn.Embedding(movieCount, embedding_dim=embedding_size)\n",
        "      self.movieBias = nn.Embedding(movieCount, 1)\n",
        "\n",
        "      self.sigmoid = nn.Sigmoid() #activation function\n",
        "\n",
        "      self.hybrid = Hybrid(qiskit.Aer.get_backend('aer_simulator'),100, np.pi/2) #quantum layer\n",
        "        \n",
        "  def forward(self,data):\n",
        "\n",
        "      userVector = self.userEmbedding(data[:,0])\n",
        "      userBias = self.userBias(data[:,0])\n",
        "\n",
        "      movieVector = self.movieEmbedding(data[:,1])\n",
        "      movieBias = self.movieBias(data[:,1])\n",
        "\n",
        "      dot_UserMovie = T.tensordot(userVector, movieVector) #matrix factorisation\n",
        "\n",
        "      # Add all the components\n",
        "      from functools import reduce\n",
        "      tensorSum = reduce(T.add, [dot_UserMovie,userBias,movieBias])\n",
        "\n",
        "      x = self.hybrid(tensorSum)\n",
        "\n",
        "      # The sigmoid activation forces the rating to be between 0 and 1\n",
        "      return self.sigmoid(x)"
      ],
      "execution_count": null,
      "outputs": []
    },
    {
      "cell_type": "markdown",
      "metadata": {
        "id": "wC2lRzT3M5W9"
      },
      "source": [
        "##7. Training\n",
        "\n",
        "* Create an object of the `MovieLens` class and pass the number of rows i.e. 5000 for this notebook.\n",
        "* The test-size is 30% of the dataset\n",
        "* The `lengths` contain the train and validation dataset respectively.\n",
        "* `random_split()` splits the ml dataset into train and validation set.\n",
        "* `DataLoader` object have been created for the training and validation."
      ]
    },
    {
      "cell_type": "code",
      "metadata": {
        "id": "PJpEoeyS4Qq-"
      },
      "source": [
        "ml = Movielens_Ratings(5000) #pass the number of rows to be returned\n",
        "\n",
        "test_size = int(0.3 * len(ml))\n",
        "lengths = [len(ml)-test_size,test_size] #[train set, validation set]\n",
        "\n",
        "train, test = random_split(ml,lengths) #train-validation split\n",
        "\n",
        "trainLoader = DataLoader(train, batch_size=32, shuffle=True) #dataloader for training\n",
        "testLoader = DataLoader(test, batch_size=64, shuffle=True) #dataloader for validation"
      ],
      "execution_count": null,
      "outputs": []
    },
    {
      "cell_type": "markdown",
      "metadata": {
        "id": "lWpavHnu4Hn9"
      },
      "source": [
        "The embeddding size is set to 50. An object for `RNet` class is created by passing the total number of users, movies and the embedding size. Adam optimizer is used along with BCE loss.\n",
        "\n",
        "---\n",
        "\n",
        "After considering the loss of training and validation set, the number of epochs was set to 3. The model is training and validated while capturing the loss from each round of epoch. \n",
        "\n",
        "Before starting the training and validation for each data, the gradients are cleared so that the results of the current step are not affected by the previous step. The prediction is flattened to a single dimension so that they could be evaluated for loss with the target dataset. "
      ]
    },
    {
      "cell_type": "code",
      "metadata": {
        "id": "xGfgkBVyBN0z"
      },
      "source": [
        "def modelExecution(dLoader):\n",
        "  tLoss,rmse = [], []\n",
        "  for batchid, (data,target) in enumerate(dLoader):\n",
        "    optimizer.zero_grad() #clear gradients\n",
        "    pred = model(data) #computing the output of the model\n",
        "    loss = criterion(T.flatten(pred),target) #calculating the loss\n",
        "    rmseLoss = T.sqrt(mse(T.flatten(pred),target))\n",
        "    loss.backward() #assigning credit\n",
        "    optimizer.step() #model weights update\n",
        "    tLoss.append(loss.item())\n",
        "    rmse.append(rmseLoss.item())\n",
        "  return tLoss, rmse"
      ],
      "execution_count": null,
      "outputs": []
    },
    {
      "cell_type": "code",
      "metadata": {
        "colab": {
          "base_uri": "https://localhost:8080/"
        },
        "id": "XJpNAP_DdR4F",
        "outputId": "bb6d8894-4c49-44e3-8900-2c645a0749f3"
      },
      "source": [
        "embeddingSize = 50\n",
        "\n",
        "model = RNet(ml.userCount,ml.movieCount,embeddingSize)\n",
        "\n",
        "optimizer = T.optim.Adam(model.parameters(), lr=0.001)\n",
        "criterion = nn.BCELoss()\n",
        "mse = nn.MSELoss()\n",
        "\n",
        "epochs = range(3)\n",
        "train_loss, test_loss, trainRMSE, testRMSE = [],[], [], []\n",
        "\n",
        "for epoch in epochs:\n",
        "  #================== Training ===========================\n",
        "  model.train() #training mode\n",
        "  trainLoss, rmseLoss = modelExecution(trainLoader)\n",
        "  train_loss.append(sum(trainLoss)/len(trainLoss))\n",
        "  trainRMSE.append(sum(rmseLoss)/len(rmseLoss))\n",
        "\n",
        "  #================= Validation =========================\n",
        "  model.eval() #validation mode\n",
        "  testLoss, rmseLoss = modelExecution(testLoader)\n",
        "  test_loss.append(sum(testLoss)/len(testLoss))\n",
        "  testRMSE.append(sum(rmseLoss)/len(rmseLoss))\n",
        "  \n",
        "  print(\"Epoch %d:\\n\\tTraining -> BCE:%.4f RMSE:%.4f\\n\\tValidation-> BCE: %.4f RMSE:%.4f\"%(\n",
        "      epoch,train_loss[-1],trainRMSE[-1],test_loss[-1],testRMSE[-1]))"
      ],
      "execution_count": 46,
      "outputs": [
        {
          "output_type": "stream",
          "text": [
            "===== Quantum Circuit ===== \n",
            "         ┌───┐ ░ ┌───────────┐ ░ ┌─┐\n",
            "   q_0: ┤ H ├─░─┤ Ry(theta) ├─░─┤M├\n",
            "        └───┘ ░ └───────────┘ ░ └╥┘\n",
            "meas: 1/═════════════════════════╩═\n",
            "                                 0 \n",
            "Epoch 0:\n",
            "\tTraining -> BCE:0.6684 RMSE:0.2514\n",
            "\tValidation-> BCE: 0.6649 RMSE:0.2577\n",
            "Epoch 1:\n",
            "\tTraining -> BCE:0.6681 RMSE:0.2514\n",
            "\tValidation-> BCE: 0.6654 RMSE:0.2543\n",
            "Epoch 2:\n",
            "\tTraining -> BCE:0.6706 RMSE:0.2527\n",
            "\tValidation-> BCE: 0.6668 RMSE:0.2586\n"
          ],
          "name": "stdout"
        }
      ]
    },
    {
      "cell_type": "markdown",
      "metadata": {
        "id": "LeYXcmmCUgGT"
      },
      "source": [
        "###7.1 Plot"
      ]
    },
    {
      "cell_type": "markdown",
      "metadata": {
        "id": "hGiMl9LMVct2"
      },
      "source": [
        "####BCE Loss\n",
        "\n",
        "A line plot is plotted for training and validation loss against the total number of epochs.\n"
      ]
    },
    {
      "cell_type": "code",
      "metadata": {
        "colab": {
          "base_uri": "https://localhost:8080/",
          "height": 295
        },
        "id": "1llWkWE5T22s",
        "outputId": "ddbc98f9-287c-470d-ea1f-a0491c8ed14e"
      },
      "source": [
        "plt.plot(epochs, train_loss, 'g', label='Training loss')\n",
        "plt.plot(epochs, test_loss, 'b', label='validation loss')\n",
        "plt.title('Training and Validation BCE loss')\n",
        "plt.xlabel('Epochs')\n",
        "plt.ylabel('Loss')\n",
        "plt.legend()\n",
        "plt.show()"
      ],
      "execution_count": 44,
      "outputs": [
        {
          "output_type": "display_data",
          "data": {
            "image/png": "[encoded data removed]",
            "text/plain": [
              "<Figure size 432x288 with 1 Axes>"
            ]
          },
          "metadata": {
            "needs_background": "light"
          }
        }
      ]
    },
    {
      "cell_type": "markdown",
      "metadata": {
        "id": "zT-DY5V5ZKGd"
      },
      "source": [
        "####RMSE Loss\n",
        "\n",
        "A line plot is plotted for training and validation loss against the total number of epochs."
      ]
    },
    {
      "cell_type": "code",
      "metadata": {
        "colab": {
          "base_uri": "https://localhost:8080/",
          "height": 295
        },
        "id": "qmOuqMoaZW5C",
        "outputId": "e3f14ef9-810f-44ca-cbc1-9dd427e8f59f"
      },
      "source": [
        "plt.plot(epochs, trainRMSE, 'g', label='Training loss')\n",
        "plt.plot(epochs, testRMSE, 'b', label='validation loss')\n",
        "plt.title('Training and Validation RMSE loss')\n",
        "plt.xlabel('Epochs')\n",
        "plt.ylabel('Loss')\n",
        "plt.legend()\n",
        "plt.show()"
      ],
      "execution_count": 45,
      "outputs": [
        {
          "output_type": "display_data",
          "data": {
            "image/png": "[encoded data removed]",
            "text/plain": [
              "<Figure size 432x288 with 1 Axes>"
            ]
          },
          "metadata": {
            "needs_background": "light"
          }
        }
      ]
    },
    {
      "cell_type": "markdown",
      "metadata": {
        "id": "qHt3RhwhG6NR"
      },
      "source": [
        "##8. Prediction\n",
        "\n",
        "* Generate a random userId\n",
        "* Get the movies watched by the user\n",
        "* Obtain the list of movies not watched by the user\n",
        "* Get the encoded value of the user\n",
        "* Create a user x movie matrix using the userId and movies not watched by the user\n",
        "* Predict the movies \n",
        "* Obtain the top 10 indices of the model output\n",
        "* Get the movieId of the indices\n",
        "* Get the name of the movie using the movieId\n",
        "* Print the name of the movies"
      ]
    },
    {
      "cell_type": "code",
      "metadata": {
        "id": "ik1AXHnMDfEF",
        "colab": {
          "base_uri": "https://localhost:8080/"
        },
        "outputId": "a4b1e64d-5b10-45a9-cfc0-eeb56c5c84ff"
      },
      "source": [
        "ratings = ml.ratings\n",
        "movies = ml.movies\n",
        "\n",
        "#generate random user\n",
        "randUserId = ratings.userId.sample().iloc[0]\n",
        "\n",
        "#get the movies watched by the user\n",
        "watched = ratings[ratings.userId == randUserId]\n",
        "\n",
        "print(\"-\"*45)\n",
        "print(\"Top 5 movie watched by userId =\", randUserId)\n",
        "print(\"-\"*45)\n",
        "topWatched = (watched.sort_values(by='rating',ascending=False).head(5).movieId.values)\n",
        "watchedMovies = movies[movies['movieId'].isin(topWatched)] #get the movie names for the movieId\n",
        "for movie in watchedMovies.itertuples():\n",
        "  print(movie.title,\"\\t\",movie.genres)\n",
        "\n",
        "#get the list of movies not watched by the user\n",
        "notWatched = movies[~movies['movieId'].isin(watched.movieId.values)]['movieId']\n",
        "notWatched = list(set(notWatched).intersection(set(ml.m2em.keys())))\n",
        "notWatched = [ml.m2em.get(x) for x in notWatched]\n",
        "\n",
        "#obtain the encoded value of the user \n",
        "encodedUser = ml.u2eu.get(randUserId)\n",
        "\n",
        "#create a (user,movie) for the user and for each movie not watched by the user\n",
        "userXmovie = T.tensor(np.stack(([encodedUser]*len(notWatched),notWatched),axis=-1))\n",
        "\n",
        "ratings = model(userXmovie).flatten()"
      ],
      "execution_count": null,
      "outputs": [
        {
          "output_type": "stream",
          "text": [
            "---------------------------------------------\n",
            "Top 5 movie watched by userId = 19\n",
            "---------------------------------------------\n",
            "Nightmare Before Christmas, The (1993) \t Animation|Children|Fantasy|Musical\n",
            "Rear Window (1954) \t Mystery|Thriller\n",
            "Maltese Falcon, The (1941) \t Film-Noir|Mystery\n",
            "Princess Bride, The (1987) \t Action|Adventure|Comedy|Fantasy|Romance\n",
            "Ferris Bueller's Day Off (1986) \t Comedy\n"
          ],
          "name": "stdout"
        }
      ]
    },
    {
      "cell_type": "code",
      "metadata": {
        "id": "poMmyrkdOgwu",
        "colab": {
          "base_uri": "https://localhost:8080/"
        },
        "outputId": "5716ea87-41f4-43f3-a514-0267a9c313ab"
      },
      "source": [
        "#get the indices of the top 10 movie\n",
        "topRatings = ratings.detach().numpy().argsort()[-10:][::-1]\n",
        "\n",
        "#obtain movieId for these movies\n",
        "recommendation_movieId = [ml.em2m.get(notWatched[x]) for x in topRatings]\n",
        "\n",
        "print(\"-\"*45)\n",
        "print(\"Top 10 movie recommendation for userId =\", randUserId)\n",
        "print(\"-\"*45)\n",
        "movieRecommendation = movies[movies['movieId'].isin(recommendation_movieId)]\n",
        "for movie in movieRecommendation.itertuples():\n",
        "  print(movie.title,\"\\t\",movie.genres)"
      ],
      "execution_count": null,
      "outputs": [
        {
          "output_type": "stream",
          "text": [
            "---------------------------------------------\n",
            "Top 10 movie recommendation for userId = 19\n",
            "---------------------------------------------\n",
            "Usual Suspects, The (1995) \t Crime|Mystery|Thriller\n",
            "Hangar 18 (1980) \t Action|Sci-Fi|Thriller\n",
            "Body of Evidence (1993) \t Drama|Thriller\n",
            "Lammbock (2001) \t Comedy\n",
            "Surviving Christmas (2004) \t Comedy\n",
            "Old Boy (2003) \t Mystery|Thriller\n",
            "American Pie Presents The Naked Mile (American Pie 5: The Naked Mile) (2006) \t Comedy|Romance\n",
            "No Reservations (2007) \t Comedy|Drama|Romance\n",
            "Harry Potter and the Deathly Hallows: Part 2 (2011) \t Action|Adventure|Drama|Fantasy|Mystery|IMAX\n",
            "American Hustle (2013) \t Crime|Drama\n"
          ],
          "name": "stdout"
        }
      ]
    },
    {
      "cell_type": "markdown",
      "metadata": {
        "id": "muHczTjgNnvz"
      },
      "source": [
        "#B. NCF"
      ]
    },
    {
      "cell_type": "markdown",
      "metadata": {
        "id": "I7_jJmlw1BHp"
      },
      "source": [
        "##1. Recommendation Neural Network\n",
        "\n",
        "The class is the vanilla version of the above model without the hybrid class i.e the quantum layer."
      ]
    },
    {
      "cell_type": "code",
      "metadata": {
        "id": "s9hISUoq1NB3"
      },
      "source": [
        "class RNetV(nn.Module):\n",
        "  \"\"\"\n",
        "  A collaborative filtering network for recommendation generation\n",
        "\n",
        "  Args:\n",
        "\n",
        "  userCount: Total number of users\n",
        "  movieCount: Total number of movies\n",
        "  embedding_size: Embedding size for projection\n",
        "  userEmbedding: Embedding space for users according to the embedding_size\n",
        "  userBias: User bias\n",
        "  movieEmbedding: Embedding space for movies according to the embedding_size\n",
        "  movieBias: Movie Bias\n",
        "  sigmoid: Activation function\n",
        "  hybrid: An optimization layer using quantum circuit\n",
        "\n",
        "  \"\"\"\n",
        "  def __init__(self, userCount, movieCount, embedding_size):\n",
        "      super(RNetV,self).__init__()\n",
        "  \n",
        "      #embed users and movies and calculate their respective biases\n",
        "      self.userEmbedding = nn.Embedding(userCount, embedding_dim=embedding_size)\n",
        "      self.userBias = nn.Embedding(userCount, 1)\n",
        "\n",
        "      self.movieEmbedding = nn.Embedding(movieCount, embedding_dim=embedding_size)\n",
        "      self.movieBias = nn.Embedding(movieCount, 1)\n",
        "\n",
        "      self.sigmoid = nn.Sigmoid() #activation function\n",
        "      self.double()\n",
        "        \n",
        "  def forward(self,data):\n",
        "\n",
        "      userVector = self.userEmbedding(data[:,0])\n",
        "      userBias = self.userBias(data[:,0])\n",
        "\n",
        "      movieVector = self.movieEmbedding(data[:,1])\n",
        "      movieBias = self.movieBias(data[:,1])\n",
        "\n",
        "      dot_UserMovie = T.tensordot(userVector, movieVector) #matrix factorisation\n",
        "\n",
        "      # Add all the components\n",
        "      from functools import reduce\n",
        "      tensorSum = reduce(T.add, [dot_UserMovie,userBias,movieBias])\n",
        "\n",
        "      # The sigmoid activation forces the rating to be between 0 and 1\n",
        "      return self.sigmoid(tensorSum)"
      ],
      "execution_count": 87,
      "outputs": []
    },
    {
      "cell_type": "markdown",
      "metadata": {
        "id": "Wi-5L7Xq5Hwj"
      },
      "source": [
        "##2. Training and Validation"
      ]
    },
    {
      "cell_type": "code",
      "metadata": {
        "id": "vT-g04yR5diu"
      },
      "source": [
        "def modelExecutionV(dLoader):\n",
        "  tLoss,rmse = [], []\n",
        "  for batchid, (data,target) in enumerate(dLoader):\n",
        "    optimizer.zero_grad() #clear gradients\n",
        "    pred = modelv(data) #computing the output of the model\n",
        "    loss = criterion(T.flatten(pred),target) #calculating the loss\n",
        "    rmseLoss = T.sqrt(mse(pred,target))\n",
        "    loss.backward() #assigning credit\n",
        "    optimizer.step() #model weights update\n",
        "    tLoss.append(loss.item())\n",
        "    rmse.append(rmseLoss.item())\n",
        "  return tLoss, rmse"
      ],
      "execution_count": 88,
      "outputs": []
    },
    {
      "cell_type": "code",
      "metadata": {
        "colab": {
          "base_uri": "https://localhost:8080/"
        },
        "id": "2eWAAxV25Hcf",
        "outputId": "095b2654-8086-4db5-b750-57d31225858b"
      },
      "source": [
        "modelv = RNetV(ml.userCount,ml.movieCount,embeddingSize)\n",
        "\n",
        "epochs = range(3)\n",
        "train_loss, test_loss, trainRMSE, testRMSE = [],[], [], []\n",
        "\n",
        "\n",
        "for epoch in epochs:\n",
        "  #================== Training ===========================\n",
        "  modelv.train() #training mode\n",
        "  trainLoss, rmseLoss = modelExecutionV(trainLoader)\n",
        "  train_loss.append(sum(trainLoss)/len(trainLoss))\n",
        "  trainRMSE.append(sum(rmseLoss)/len(rmseLoss))\n",
        "\n",
        "  #================= Validation =========================\n",
        "  modelv.eval() #validation mode\n",
        "  testLoss, rmseLoss = modelExecution(testLoader)\n",
        "  test_loss.append(sum(testLoss)/len(testLoss))\n",
        "  testRMSE.append(sum(rmseLoss)/len(rmseLoss))\n",
        "  \n",
        "  print(\"Epoch %d:\\n\\tTraining -> BCE:%.4f RMSE:%.4f\\n\\tValidation-> BCE: %.4f RMSE:%.4f\"%(\n",
        "      epoch,train_loss[-1],trainRMSE[-1],test_loss[-1],testRMSE[-1]))"
      ],
      "execution_count": 89,
      "outputs": [
        {
          "output_type": "stream",
          "text": [
            "/usr/local/lib/python3.7/dist-packages/torch/nn/modules/loss.py:528: UserWarning: Using a target size (torch.Size([32])) that is different to the input size (torch.Size([32, 1])). This will likely lead to incorrect results due to broadcasting. Please ensure they have the same size.\n",
            "  return F.mse_loss(input, target, reduction=self.reduction)\n",
            "/usr/local/lib/python3.7/dist-packages/torch/nn/modules/loss.py:528: UserWarning: Using a target size (torch.Size([12])) that is different to the input size (torch.Size([12, 1])). This will likely lead to incorrect results due to broadcasting. Please ensure they have the same size.\n",
            "  return F.mse_loss(input, target, reduction=self.reduction)\n",
            "/usr/local/lib/python3.7/dist-packages/torch/nn/modules/loss.py:528: UserWarning: Using a target size (torch.Size([64])) that is different to the input size (torch.Size([64, 1])). This will likely lead to incorrect results due to broadcasting. Please ensure they have the same size.\n",
            "  return F.mse_loss(input, target, reduction=self.reduction)\n",
            "/usr/local/lib/python3.7/dist-packages/torch/nn/modules/loss.py:528: UserWarning: Using a target size (torch.Size([28])) that is different to the input size (torch.Size([28, 1])). This will likely lead to incorrect results due to broadcasting. Please ensure they have the same size.\n",
            "  return F.mse_loss(input, target, reduction=self.reduction)\n"
          ],
          "name": "stderr"
        },
        {
          "output_type": "stream",
          "text": [
            "Epoch 0:\n",
            "\tTraining -> BCE:18.5321 RMSE:0.5557\n",
            "\tValidation-> BCE: 27.5130 RMSE:0.5583\n",
            "Epoch 1:\n",
            "\tTraining -> BCE:20.2075 RMSE:0.5333\n",
            "\tValidation-> BCE: 21.2670 RMSE:0.5829\n",
            "Epoch 2:\n",
            "\tTraining -> BCE:20.9860 RMSE:0.5517\n",
            "\tValidation-> BCE: 23.7537 RMSE:0.5513\n"
          ],
          "name": "stdout"
        }
      ]
    },
    {
      "cell_type": "markdown",
      "metadata": {
        "id": "-WB5UZil8vs4"
      },
      "source": [
        "###Plot\n",
        "\n",
        "Plot BCE and RMSE for training and test set"
      ]
    },
    {
      "cell_type": "code",
      "metadata": {
        "colab": {
          "base_uri": "https://localhost:8080/",
          "height": 295
        },
        "id": "ncTL5zzw85Oq",
        "outputId": "1f563afa-eb1d-4cb2-9ec3-43c5fc3dc8e7"
      },
      "source": [
        "plt.plot(epochs, trainRMSE, 'g', label='Training loss')\n",
        "plt.plot(epochs, testRMSE, 'b', label='validation loss')\n",
        "plt.title('Training and Validation RMSE loss')\n",
        "plt.xlabel('Epochs')\n",
        "plt.ylabel('Loss')\n",
        "plt.legend()\n",
        "plt.show()"
      ],
      "execution_count": 86,
      "outputs": [
        {
          "output_type": "display_data",
          "data": {
            "image/png": "[encoded data removed]",
            "text/plain": [
              "<Figure size 432x288 with 1 Axes>"
            ]
          },
          "metadata": {
            "needs_background": "light"
          }
        }
      ]
    },
    {
      "cell_type": "code",
      "metadata": {
        "colab": {
          "base_uri": "https://localhost:8080/",
          "height": 295
        },
        "id": "5NA-jot9CNFx",
        "outputId": "6f44667f-381a-485d-8148-c86c5e7ba1a9"
      },
      "source": [
        "plt.plot(epochs, train_loss, 'g', label='Training loss')\n",
        "plt.plot(epochs, test_loss, 'b', label='validation loss')\n",
        "plt.title('Training and Validation BCE loss')\n",
        "plt.xlabel('Epochs')\n",
        "plt.ylabel('Loss')\n",
        "plt.legend()\n",
        "plt.show()"
      ],
      "execution_count": 91,
      "outputs": [
        {
          "output_type": "display_data",
          "data": {
            "image/png": "[encoded data removed]",
            "text/plain": [
              "<Figure size 432x288 with 1 Axes>"
            ]
          },
          "metadata": {
            "needs_background": "light"
          }
        }
      ]
    }
  ]
}