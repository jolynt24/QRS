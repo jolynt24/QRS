{
  "nbformat": 4,
  "nbformat_minor": 0,
  "metadata": {
    "colab": {
      "name": "MovieLens_Exploration.ipynb",
      "provenance": [],
      "collapsed_sections": [],
      "authorship_tag": "ABX9TyOMXUIWVF4Hcy7KF6WzuuB/",
      "include_colab_link": true
    },
    "kernelspec": {
      "name": "python3",
      "display_name": "Python 3"
    },
    "language_info": {
      "name": "python"
    }
  },
  "cells": [
    {
      "cell_type": "markdown",
      "metadata": {
        "id": "view-in-github",
        "colab_type": "text"
      },
      "source": [
        "<a href=\"https://colab.research.google.com/github/jolynt24/QRS/blob/main/MovieLens_Exploration.ipynb\" target=\"_parent\"><img src=\"https://colab.research.google.com/assets/colab-badge.svg\" alt=\"Open In Colab\"/></a>"
      ]
    },
    {
      "cell_type": "markdown",
      "metadata": {
        "id": "Qo4CRZMShr0L"
      },
      "source": [
        "#MovieLens Exploration"
      ]
    },
    {
      "cell_type": "markdown",
      "metadata": {
        "id": "x2PCHO7SfjLj"
      },
      "source": [
        "##1. Install the plug-ins\n",
        "\n",
        "Run the cell below"
      ]
    },
    {
      "cell_type": "code",
      "metadata": {
        "colab": {
          "base_uri": "https://localhost:8080/"
        },
        "id": "9KWmQNzThrNf",
        "outputId": "dc7cb500-5bd4-4328-ae54-9c0b86a818df"
      },
      "source": [
        "!pip install -q kaggle\n",
        "from google.colab import drive\n",
        "drive.mount('/gdrive')\n",
        "!mkdir ~/.kaggle\n",
        "!cp /gdrive/MyDrive/Colab\\ Notebooks/kaggle.json ~/.kaggle/\n",
        "!chmod 600 ~/.kaggle/kaggle.json\n",
        "!kaggle datasets download grouplens/movielens-latest-small -p /content/sample_data/ --unzip "
      ],
      "execution_count": null,
      "outputs": [
        {
          "output_type": "stream",
          "text": [
            "Mounted at /gdrive\n",
            "Downloading movielens-latest-small.zip to /content/sample_data\n",
            "  0% 0.00/971k [00:00<?, ?B/s]\n",
            "100% 971k/971k [00:00<00:00, 52.7MB/s]\n"
          ],
          "name": "stdout"
        }
      ]
    },
    {
      "cell_type": "markdown",
      "metadata": {
        "id": "LiJQVR19iLnI"
      },
      "source": [
        "##2. Import libraries"
      ]
    },
    {
      "cell_type": "code",
      "metadata": {
        "id": "u2KpLeiaiLFL"
      },
      "source": [
        "import pandas as pd\n",
        "import matplotlib.pyplot as plt\n"
      ],
      "execution_count": null,
      "outputs": []
    },
    {
      "cell_type": "markdown",
      "metadata": {
        "id": "hVI0zR19iinD"
      },
      "source": [
        "##3. Obtain the data"
      ]
    },
    {
      "cell_type": "code",
      "metadata": {
        "id": "PQk_6BhsiiFd"
      },
      "source": [
        "ratings = pd.read_csv('/content/sample_data/ratings.csv',parse_dates=['timestamp'])\n",
        "movies = pd.read_csv('/content/sample_data/movies.csv')"
      ],
      "execution_count": null,
      "outputs": []
    },
    {
      "cell_type": "markdown",
      "metadata": {
        "id": "UZ2HcrlLjEWs"
      },
      "source": [
        "##4. Explore the ratings and movies dataset"
      ]
    },
    {
      "cell_type": "code",
      "metadata": {
        "colab": {
          "base_uri": "https://localhost:8080/"
        },
        "id": "xgal_HQtku6l",
        "outputId": "e26a384f-1034-43aa-f7c7-9b1d65d23c28"
      },
      "source": [
        "print(\"Ratings:\",ratings.shape)\n",
        "print(\"Movie:\",movies.shape)"
      ],
      "execution_count": null,
      "outputs": [
        {
          "output_type": "stream",
          "text": [
            "Ratings: (100836, 4)\n",
            "Movie: (9742, 3)\n"
          ],
          "name": "stdout"
        }
      ]
    },
    {
      "cell_type": "code",
      "metadata": {
        "colab": {
          "base_uri": "https://localhost:8080/",
          "height": 204
        },
        "id": "UCnAlw5MjIsx",
        "outputId": "7244aaf3-cd00-48a2-c256-61993777be90"
      },
      "source": [
        "ratings.head()"
      ],
      "execution_count": null,
      "outputs": [
        {
          "output_type": "execute_result",
          "data": {
            "text/html": [
              "<div>\n",
              "<style scoped>\n",
              "    .dataframe tbody tr th:only-of-type {\n",
              "        vertical-align: middle;\n",
              "    }\n",
              "\n",
              "    .dataframe tbody tr th {\n",
              "        vertical-align: top;\n",
              "    }\n",
              "\n",
              "    .dataframe thead th {\n",
              "        text-align: right;\n",
              "    }\n",
              "</style>\n",
              "<table border=\"1\" class=\"dataframe\">\n",
              "  <thead>\n",
              "    <tr style=\"text-align: right;\">\n",
              "      <th></th>\n",
              "      <th>userId</th>\n",
              "      <th>movieId</th>\n",
              "      <th>rating</th>\n",
              "      <th>timestamp</th>\n",
              "    </tr>\n",
              "  </thead>\n",
              "  <tbody>\n",
              "    <tr>\n",
              "      <th>0</th>\n",
              "      <td>1</td>\n",
              "      <td>1</td>\n",
              "      <td>4.0</td>\n",
              "      <td>964982703</td>\n",
              "    </tr>\n",
              "    <tr>\n",
              "      <th>1</th>\n",
              "      <td>1</td>\n",
              "      <td>3</td>\n",
              "      <td>4.0</td>\n",
              "      <td>964981247</td>\n",
              "    </tr>\n",
              "    <tr>\n",
              "      <th>2</th>\n",
              "      <td>1</td>\n",
              "      <td>6</td>\n",
              "      <td>4.0</td>\n",
              "      <td>964982224</td>\n",
              "    </tr>\n",
              "    <tr>\n",
              "      <th>3</th>\n",
              "      <td>1</td>\n",
              "      <td>47</td>\n",
              "      <td>5.0</td>\n",
              "      <td>964983815</td>\n",
              "    </tr>\n",
              "    <tr>\n",
              "      <th>4</th>\n",
              "      <td>1</td>\n",
              "      <td>50</td>\n",
              "      <td>5.0</td>\n",
              "      <td>964982931</td>\n",
              "    </tr>\n",
              "  </tbody>\n",
              "</table>\n",
              "</div>"
            ],
            "text/plain": [
              "   userId  movieId  rating  timestamp\n",
              "0       1        1     4.0  964982703\n",
              "1       1        3     4.0  964981247\n",
              "2       1        6     4.0  964982224\n",
              "3       1       47     5.0  964983815\n",
              "4       1       50     5.0  964982931"
            ]
          },
          "metadata": {},
          "execution_count": 6
        }
      ]
    },
    {
      "cell_type": "code",
      "metadata": {
        "colab": {
          "base_uri": "https://localhost:8080/",
          "height": 204
        },
        "id": "O14Sq9RzlINg",
        "outputId": "b45333f0-f83e-4df2-925a-cd26d7b996e6"
      },
      "source": [
        "movies.head()"
      ],
      "execution_count": null,
      "outputs": [
        {
          "output_type": "execute_result",
          "data": {
            "text/html": [
              "<div>\n",
              "<style scoped>\n",
              "    .dataframe tbody tr th:only-of-type {\n",
              "        vertical-align: middle;\n",
              "    }\n",
              "\n",
              "    .dataframe tbody tr th {\n",
              "        vertical-align: top;\n",
              "    }\n",
              "\n",
              "    .dataframe thead th {\n",
              "        text-align: right;\n",
              "    }\n",
              "</style>\n",
              "<table border=\"1\" class=\"dataframe\">\n",
              "  <thead>\n",
              "    <tr style=\"text-align: right;\">\n",
              "      <th></th>\n",
              "      <th>movieId</th>\n",
              "      <th>title</th>\n",
              "      <th>genres</th>\n",
              "    </tr>\n",
              "  </thead>\n",
              "  <tbody>\n",
              "    <tr>\n",
              "      <th>0</th>\n",
              "      <td>1</td>\n",
              "      <td>Toy Story (1995)</td>\n",
              "      <td>Adventure|Animation|Children|Comedy|Fantasy</td>\n",
              "    </tr>\n",
              "    <tr>\n",
              "      <th>1</th>\n",
              "      <td>2</td>\n",
              "      <td>Jumanji (1995)</td>\n",
              "      <td>Adventure|Children|Fantasy</td>\n",
              "    </tr>\n",
              "    <tr>\n",
              "      <th>2</th>\n",
              "      <td>3</td>\n",
              "      <td>Grumpier Old Men (1995)</td>\n",
              "      <td>Comedy|Romance</td>\n",
              "    </tr>\n",
              "    <tr>\n",
              "      <th>3</th>\n",
              "      <td>4</td>\n",
              "      <td>Waiting to Exhale (1995)</td>\n",
              "      <td>Comedy|Drama|Romance</td>\n",
              "    </tr>\n",
              "    <tr>\n",
              "      <th>4</th>\n",
              "      <td>5</td>\n",
              "      <td>Father of the Bride Part II (1995)</td>\n",
              "      <td>Comedy</td>\n",
              "    </tr>\n",
              "  </tbody>\n",
              "</table>\n",
              "</div>"
            ],
            "text/plain": [
              "   movieId  ...                                       genres\n",
              "0        1  ...  Adventure|Animation|Children|Comedy|Fantasy\n",
              "1        2  ...                   Adventure|Children|Fantasy\n",
              "2        3  ...                               Comedy|Romance\n",
              "3        4  ...                         Comedy|Drama|Romance\n",
              "4        5  ...                                       Comedy\n",
              "\n",
              "[5 rows x 3 columns]"
            ]
          },
          "metadata": {},
          "execution_count": 14
        }
      ]
    },
    {
      "cell_type": "code",
      "metadata": {
        "colab": {
          "base_uri": "https://localhost:8080/",
          "height": 297
        },
        "id": "3SHwjX-LjMo6",
        "outputId": "3e3aafdf-3ce3-4f65-8281-b7a6f7ae5e83"
      },
      "source": [
        "ratings.describe()"
      ],
      "execution_count": null,
      "outputs": [
        {
          "output_type": "execute_result",
          "data": {
            "text/html": [
              "<div>\n",
              "<style scoped>\n",
              "    .dataframe tbody tr th:only-of-type {\n",
              "        vertical-align: middle;\n",
              "    }\n",
              "\n",
              "    .dataframe tbody tr th {\n",
              "        vertical-align: top;\n",
              "    }\n",
              "\n",
              "    .dataframe thead th {\n",
              "        text-align: right;\n",
              "    }\n",
              "</style>\n",
              "<table border=\"1\" class=\"dataframe\">\n",
              "  <thead>\n",
              "    <tr style=\"text-align: right;\">\n",
              "      <th></th>\n",
              "      <th>userId</th>\n",
              "      <th>movieId</th>\n",
              "      <th>rating</th>\n",
              "    </tr>\n",
              "  </thead>\n",
              "  <tbody>\n",
              "    <tr>\n",
              "      <th>count</th>\n",
              "      <td>100836.000000</td>\n",
              "      <td>100836.000000</td>\n",
              "      <td>100836.000000</td>\n",
              "    </tr>\n",
              "    <tr>\n",
              "      <th>mean</th>\n",
              "      <td>326.127564</td>\n",
              "      <td>19435.295718</td>\n",
              "      <td>3.501557</td>\n",
              "    </tr>\n",
              "    <tr>\n",
              "      <th>std</th>\n",
              "      <td>182.618491</td>\n",
              "      <td>35530.987199</td>\n",
              "      <td>1.042529</td>\n",
              "    </tr>\n",
              "    <tr>\n",
              "      <th>min</th>\n",
              "      <td>1.000000</td>\n",
              "      <td>1.000000</td>\n",
              "      <td>0.500000</td>\n",
              "    </tr>\n",
              "    <tr>\n",
              "      <th>25%</th>\n",
              "      <td>177.000000</td>\n",
              "      <td>1199.000000</td>\n",
              "      <td>3.000000</td>\n",
              "    </tr>\n",
              "    <tr>\n",
              "      <th>50%</th>\n",
              "      <td>325.000000</td>\n",
              "      <td>2991.000000</td>\n",
              "      <td>3.500000</td>\n",
              "    </tr>\n",
              "    <tr>\n",
              "      <th>75%</th>\n",
              "      <td>477.000000</td>\n",
              "      <td>8122.000000</td>\n",
              "      <td>4.000000</td>\n",
              "    </tr>\n",
              "    <tr>\n",
              "      <th>max</th>\n",
              "      <td>610.000000</td>\n",
              "      <td>193609.000000</td>\n",
              "      <td>5.000000</td>\n",
              "    </tr>\n",
              "  </tbody>\n",
              "</table>\n",
              "</div>"
            ],
            "text/plain": [
              "              userId        movieId         rating\n",
              "count  100836.000000  100836.000000  100836.000000\n",
              "mean      326.127564   19435.295718       3.501557\n",
              "std       182.618491   35530.987199       1.042529\n",
              "min         1.000000       1.000000       0.500000\n",
              "25%       177.000000    1199.000000       3.000000\n",
              "50%       325.000000    2991.000000       3.500000\n",
              "75%       477.000000    8122.000000       4.000000\n",
              "max       610.000000  193609.000000       5.000000"
            ]
          },
          "metadata": {},
          "execution_count": 8
        }
      ]
    },
    {
      "cell_type": "code",
      "metadata": {
        "colab": {
          "base_uri": "https://localhost:8080/"
        },
        "id": "-DNsNV-TjSVd",
        "outputId": "5b7f795d-d95e-440d-bd5f-2dbf6cdd2eb4"
      },
      "source": [
        "genreList = [movie.split('|') for movie in list(movies['genres'].unique())]\n",
        "genres = list({genre for gList in genreList for genre in gList})\n",
        "print(genres)"
      ],
      "execution_count": null,
      "outputs": [
        {
          "output_type": "stream",
          "text": [
            "['Mystery', 'Film-Noir', 'War', 'Crime', 'Drama', 'Documentary', 'IMAX', 'Fantasy', 'Adventure', '(no genres listed)', 'Romance', 'Animation', 'Children', 'Action', 'Horror', 'Comedy', 'Western', 'Musical', 'Sci-Fi', 'Thriller']\n"
          ],
          "name": "stdout"
        }
      ]
    },
    {
      "cell_type": "markdown",
      "metadata": {
        "id": "e_76zh3onNOx"
      },
      "source": [
        "Average rating for each genre"
      ]
    },
    {
      "cell_type": "code",
      "metadata": {
        "colab": {
          "base_uri": "https://localhost:8080/",
          "height": 411
        },
        "id": "6RF8ckeonPsF",
        "outputId": "dd162b17-d6e4-4813-d017-5bda0c366c58"
      },
      "source": [
        "\"\"\"\n",
        "For each genre\n",
        "Get the movieIds\n",
        "Get the total of the ratings of the movieIds\n",
        "Divide by the total movieIds for the average\n",
        "\"\"\"\n",
        "avgGRating = {}\n",
        "mostRatedG = {}\n",
        "mPerG = {}\n",
        "\n",
        "for genre in genres:\n",
        "  movieIds = []\n",
        "  for movie in movies.itertuples():\n",
        "    if genre in movie.genres: movieIds.append(movie.movieId)\n",
        "  rList = ratings[ratings['movieId'].isin(movieIds)].rating\n",
        "  mostRatedG[genre] = len(rList)\n",
        "  avgGRating[genre] = sum(rList)/len(rList)\n",
        "  mPerG[genre] = len(movieIds)\n",
        "\n",
        "print(avgGRating)\n",
        "\n",
        "plt.bar(avgGRating.keys(),avgGRating.values())\n",
        "plt.xticks(rotation=90)\n",
        "plt.xlabel(\"Genre\")\n",
        "plt.ylabel(\"Rating\")"
      ],
      "execution_count": null,
      "outputs": [
        {
          "output_type": "stream",
          "text": [
            "{'Mystery': 3.632460255407871, 'Film-Noir': 3.920114942528736, 'War': 3.8082938876312, 'Crime': 3.658293867274144, 'Drama': 3.6561844113718758, 'Documentary': 3.797785069729286, 'IMAX': 3.618335343787696, 'Fantasy': 3.4910005070136894, 'Adventure': 3.5086089151939075, '(no genres listed)': 3.4893617021276597, 'Romance': 3.5065107040388437, 'Animation': 3.6299370349170004, 'Children': 3.412956125108601, 'Action': 3.447984331646809, 'Horror': 3.258195034974626, 'Comedy': 3.3847207640898267, 'Western': 3.583937823834197, 'Musical': 3.5636781053649105, 'Sci-Fi': 3.455721162210752, 'Thriller': 3.4937055799183425}\n"
          ],
          "name": "stdout"
        },
        {
          "output_type": "execute_result",
          "data": {
            "text/plain": [
              "Text(0, 0.5, 'Rating')"
            ]
          },
          "metadata": {},
          "execution_count": 170
        },
        {
          "output_type": "display_data",
          "data": {
            "image/png": "[encoded data removed]",
            "text/plain": [
              "<Figure size 432x288 with 1 Axes>"
            ]
          },
          "metadata": {
            "needs_background": "light"
          }
        }
      ]
    },
    {
      "cell_type": "markdown",
      "metadata": {
        "id": "76V3hzMHncSb"
      },
      "source": [
        "Most rated genre"
      ]
    },
    {
      "cell_type": "code",
      "metadata": {
        "colab": {
          "base_uri": "https://localhost:8080/",
          "height": 374
        },
        "id": "ED6raaWfne_e",
        "outputId": "b39e8cdc-8e20-4666-98db-366df3dc9723"
      },
      "source": [
        "\"\"\"\n",
        "For each genre\n",
        "Obtain the movieIds\n",
        "Get the rows from the ratings using them\n",
        "(from above)\n",
        "Get the length to find the most rated genres\n",
        "\"\"\"\n",
        "\n",
        "plt.bar(mostRatedG.keys(),mostRatedG.values())\n",
        "plt.xticks(rotation=90)\n",
        "plt.xlabel(\"Genre\")\n",
        "plt.ylabel(\"User Count\")"
      ],
      "execution_count": null,
      "outputs": [
        {
          "output_type": "execute_result",
          "data": {
            "text/plain": [
              "Text(0, 0.5, 'User Count')"
            ]
          },
          "metadata": {},
          "execution_count": 171
        },
        {
          "output_type": "display_data",
          "data": {
            "image/png": "[encoded data removed]",
            "text/plain": [
              "<Figure size 432x288 with 1 Axes>"
            ]
          },
          "metadata": {
            "needs_background": "light"
          }
        }
      ]
    },
    {
      "cell_type": "markdown",
      "metadata": {
        "id": "AMxoatxZooJW"
      },
      "source": [
        "Total movies per genre"
      ]
    },
    {
      "cell_type": "code",
      "metadata": {
        "colab": {
          "base_uri": "https://localhost:8080/",
          "height": 374
        },
        "id": "NpvfWdDRoqp8",
        "outputId": "90060258-d8f9-478e-d6b0-0132eebb1221"
      },
      "source": [
        "\"\"\"\n",
        "Obtain the genre\n",
        "For each genre,\n",
        "Obtain the row in the movies\n",
        "Calculate the length of the row\n",
        "\"\"\"\n",
        "plt.bar(mPerG.keys(),mPerG.values())\n",
        "plt.xticks(rotation=90)\n",
        "plt.xlabel(\"Genre\")\n",
        "plt.ylabel(\"Movie Count\")"
      ],
      "execution_count": null,
      "outputs": [
        {
          "output_type": "execute_result",
          "data": {
            "text/plain": [
              "Text(0, 0.5, 'Movie Count')"
            ]
          },
          "metadata": {},
          "execution_count": 172
        },
        {
          "output_type": "display_data",
          "data": {
            "image/png": "[encoded data removed]",
            "text/plain": [
              "<Figure size 432x288 with 1 Axes>"
            ]
          },
          "metadata": {
            "needs_background": "light"
          }
        }
      ]
    },
    {
      "cell_type": "markdown",
      "metadata": {
        "id": "nqQz2g26npA6"
      },
      "source": [
        "Highest rated movies"
      ]
    },
    {
      "cell_type": "code",
      "metadata": {
        "colab": {
          "base_uri": "https://localhost:8080/",
          "height": 475
        },
        "id": "wgZleFa6nurp",
        "outputId": "e4de018e-c636-4aa2-95ad-fa242b7a6dbd"
      },
      "source": [
        "\"\"\"\n",
        "Get all the movieIds\n",
        "For each movieId,\n",
        "count the total number of ratings given to movieId\n",
        "arrange according to descending order\n",
        "get the top 10 movies\n",
        "\"\"\"\n",
        "\n",
        "highRatedM = {}\n",
        "\n",
        "moviesIds = movies['movieId'].unique()\n",
        "for movieId in movieIds:\n",
        "  mList = ratings[ratings['movieId']== movieId].rating\n",
        "  highRatedM[movieId] = len(mList)\n",
        "\n",
        "highRatedM = sorted(highRatedM.items(), key=lambda val: val[1], reverse=True)[:10]\n",
        "\n",
        "movie,rat = [], []\n",
        "for m,r in highRatedM:\n",
        "  movie.append(m)\n",
        "  rat.append(r)\n",
        "\n",
        "plt.bar(movies[movies['movieId'].isin(movie)].title,rat)\n",
        "plt.xticks(rotation=90)\n",
        "plt.xlabel(\"Movies\")\n",
        "plt.ylabel(\"User Count\")"
      ],
      "execution_count": null,
      "outputs": [
        {
          "output_type": "execute_result",
          "data": {
            "text/plain": [
              "Text(0, 0.5, 'User Count')"
            ]
          },
          "metadata": {},
          "execution_count": 155
        },
        {
          "output_type": "display_data",
          "data": {
            "image/png": "[encoded data removed]",
            "text/plain": [
              "<Figure size 432x288 with 1 Axes>"
            ]
          },
          "metadata": {
            "needs_background": "light"
          }
        }
      ]
    },
    {
      "cell_type": "markdown",
      "metadata": {
        "id": "6rJxIyAUoAGL"
      },
      "source": [
        "Users with the most rating"
      ]
    },
    {
      "cell_type": "code",
      "metadata": {
        "colab": {
          "base_uri": "https://localhost:8080/",
          "height": 330
        },
        "id": "fA4EwlOPoCnt",
        "outputId": "2ce98514-fdb6-499a-d073-9eff19b37b92"
      },
      "source": [
        "\"\"\"\n",
        "Get all the userIds\n",
        "Get the len of the userIds in ratings\n",
        "Obtain the top 10 users\n",
        "\"\"\"\n",
        "\n",
        "highRatedU = {}\n",
        "\n",
        "userIds = ratings['userId'].unique()\n",
        "for userId in userIds:\n",
        "  uList = ratings[ratings['userId']== userId].rating\n",
        "  highRatedU[userId] = len(uList)\n",
        "\n",
        "highRatedU = sorted(highRatedU.items(), key=lambda val: val[1], reverse=True)[:10]\n",
        "\n",
        "user,cnt = [], []\n",
        "for u,c in highRatedU:\n",
        "  user.append(str(u))\n",
        "  cnt.append(c)\n",
        "print(user)\n",
        "print(cnt)\n",
        "\n",
        "plt.bar(user,cnt)\n",
        "plt.xlabel(\"UserId\")\n",
        "plt.ylabel(\"Total ratings given by the user\")"
      ],
      "execution_count": null,
      "outputs": [
        {
          "output_type": "stream",
          "text": [
            "['414', '599', '474', '448', '274', '610', '68', '380', '606', '288']\n",
            "[2698, 2478, 2108, 1864, 1346, 1302, 1260, 1218, 1115, 1055]\n"
          ],
          "name": "stdout"
        },
        {
          "output_type": "execute_result",
          "data": {
            "text/plain": [
              "Text(0, 0.5, 'Total ratings given by the user')"
            ]
          },
          "metadata": {},
          "execution_count": 151
        },
        {
          "output_type": "display_data",
          "data": {
            "image/png": "[encoded data removed]",
            "text/plain": [
              "<Figure size 432x288 with 1 Axes>"
            ]
          },
          "metadata": {
            "needs_background": "light"
          }
        }
      ]
    },
    {
      "cell_type": "markdown",
      "metadata": {
        "id": "zxZbvY_0odH6"
      },
      "source": [
        "Total users per rating"
      ]
    },
    {
      "cell_type": "code",
      "metadata": {
        "colab": {
          "base_uri": "https://localhost:8080/",
          "height": 296
        },
        "id": "QoYNh6Q9ofwC",
        "outputId": "dfab9160-aa50-4589-ca09-48ac63d9cd5c"
      },
      "source": [
        "\"\"\"\n",
        "Get all the rating values\n",
        "For each rating,\n",
        "Calculate the total number of users\n",
        "\"\"\"\n",
        "rCount = {}\n",
        "mrCount = {}\n",
        "\n",
        "mRatings = ratings['rating'].unique()\n",
        "for r in mRatings:\n",
        "  rList = ratings[ratings['rating']==r]\n",
        "  mrList = rList.movieId.unique()\n",
        "  rCount[r] = len(rList)\n",
        "  mrCount[r] = len(mrList)\n",
        "\n",
        "plt.bar(rCount.keys(),rCount.values(),width=0.4)\n",
        "plt.xlabel(\"Rating\")\n",
        "plt.ylabel(\"User Count\")"
      ],
      "execution_count": null,
      "outputs": [
        {
          "output_type": "execute_result",
          "data": {
            "text/plain": [
              "Text(0, 0.5, 'User Count')"
            ]
          },
          "metadata": {},
          "execution_count": 168
        },
        {
          "output_type": "display_data",
          "data": {
            "image/png": "[encoded data removed]",
            "text/plain": [
              "<Figure size 432x288 with 1 Axes>"
            ]
          },
          "metadata": {
            "needs_background": "light"
          }
        }
      ]
    },
    {
      "cell_type": "markdown",
      "metadata": {
        "id": "1RWDTJACojyV"
      },
      "source": [
        "Total movies per rating"
      ]
    },
    {
      "cell_type": "code",
      "metadata": {
        "colab": {
          "base_uri": "https://localhost:8080/",
          "height": 296
        },
        "id": "vQF9u5cFol_l",
        "outputId": "1fff51ab-e048-44b7-ab11-b376f91eaaff"
      },
      "source": [
        "\"\"\"\n",
        "Get all the ratings\n",
        "For each rating,\n",
        "Count the movieIds\n",
        "(done in the previous step)\n",
        "\"\"\"\n",
        "plt.bar(mrCount.keys(),mrCount.values(),width=0.4)\n",
        "plt.xlabel(\"Rating\")\n",
        "plt.ylabel(\"Movie Count\")"
      ],
      "execution_count": null,
      "outputs": [
        {
          "output_type": "execute_result",
          "data": {
            "text/plain": [
              "Text(0, 0.5, 'Movie Count')"
            ]
          },
          "metadata": {},
          "execution_count": 169
        },
        {
          "output_type": "display_data",
          "data": {
            "image/png": "[encoded data removed]",
            "text/plain": [
              "<Figure size 432x288 with 1 Axes>"
            ]
          },
          "metadata": {
            "needs_background": "light"
          }
        }
      ]
    }
  ]
}